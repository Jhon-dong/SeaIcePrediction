{
 "cells": [
  {
   "cell_type": "markdown",
   "metadata": {},
   "source": [
    "# Sea ice prediction notebook\n",
    "\n",
    "Date: 09/12/2017  \n",
    "Author: Alek Petty  \n",
    "\n",
    "Description: Notebook for sea ice prediction experimentation  \n",
    "Based on the get_multivar_forcast_months_exp.py script.\n",
    "\n",
    "Notes: \n",
    "This only generates forecasts for one year (of your choosing). The Python script is set up as a loop calling a function to produce forecasts for a series of years. This is needed to produce the lineplots of all the different forecasts and to produce an assessment of forecast skill. This Notebook is more to demonstrate and experiment with the forecast model\n"
   ]
  },
  {
   "cell_type": "code",
   "execution_count": 1,
   "metadata": {
    "collapsed": false
   },
   "outputs": [
    {
     "name": "stderr",
     "output_type": "stream",
     "text": [
      "/Applications/anaconda/lib/python2.7/site-packages/matplotlib/__init__.py:1350: UserWarning:  This call to matplotlib.use() has no effect\n",
      "because the backend has already been chosen;\n",
      "matplotlib.use() must be called *before* pylab, matplotlib.pyplot,\n",
      "or matplotlib.backends is imported for the first time.\n",
      "\n",
      "  warnings.warn(_use_error_msg)\n",
      "/Applications/anaconda/lib/python2.7/site-packages/statsmodels/compat/pandas.py:56: FutureWarning: The pandas.core.datetools module is deprecated and will be removed in a future version. Please use the pandas.tseries module instead.\n",
      "  from pandas.core import datetools\n"
     ]
    }
   ],
   "source": [
    "# Import Python libraries\n",
    "%matplotlib inline\n",
    "\n",
    "import argparse # for passing variables from bash\n",
    "import sys\n",
    "import forecast_funcs as ff\n",
    "import statsmodels.api as sm\n",
    "from statsmodels.sandbox.regression.predstd import wls_prediction_std\n",
    "from pylab import *"
   ]
  },
  {
   "cell_type": "code",
   "execution_count": 2,
   "metadata": {
    "collapsed": true
   },
   "outputs": [],
   "source": [
    "# Options needed to run this Script\n",
    "\n",
    "plotSkill=1 # for plotting the skill\n",
    "outSkill=1 # far saving the skill values\n",
    "outLine=1 # for saving the forecast time series\n",
    "outWeights=1 #for saving the weightings\n",
    "\n",
    "startYearF=1979 # Start year of forecast training\n",
    "numYearsReq=5 #number of years required in a grid cell for it to count towards the training data\n",
    "\n",
    "yearF=2012 # Forecast data year\n",
    "yearP=2012 # Predicted year\n",
    "\n",
    "fmonth=6 #6=June, 9=Sep #  Forecast month\n",
    "pmonth=9 #9=SEP # Predicted month\n",
    "fvars=['conc'] # Sea ice concentration='conc'. \n",
    "concVersion='v2' #version of the gridded ice conc files\n",
    "# Can add multiple variables here, e.g. 'melt'= melt onset over sea ice\n",
    "weight=1 # Spatially weighting the data, normally 1\n",
    "hemStr='N' # Hemipshere (N or S)\n",
    "iceType='extent' # ice type being forecast ('extent' or 'area')\n",
    "alg=0\n",
    "\n",
    "region=0\n",
    "#0 implies pan-Arctic or Antarctic\n",
    "#2 Weddell Sea\n",
    "#3 Indian Ocean\n",
    "#4 Pacific Ocean\n",
    "#5 Ross Sea\n",
    "#6 Amundsen/BHausen Sea\n",
    "#A Alaskan\n",
    "\n",
    "anomObs=1 # This flag means we have observed data for the forecast year.\n",
    "# This needs to be set to zero if producing forecasts into the future.\n"
   ]
  },
  {
   "cell_type": "code",
   "execution_count": 3,
   "metadata": {
    "collapsed": true
   },
   "outputs": [],
   "source": [
    "# Figure paths\n",
    "figpath='../Figures/'\n",
    "rawdatapath='../../../../DATA/'\n",
    "extdatapath = '../DataOutput/Extent/'\n",
    "dataoutpath='../DataOutput/'\n",
    "\n",
    "if (hemStr=='S'):\n",
    "\tskilldatapath='../DataOutput/Antarctic/SkillVals/'\n",
    "\tlinedatapath='../DataOutput/Antarctic/TimeSeries/'\n",
    "\tdatapath='../DataOutput/Antarctic/'\n",
    "elif (hemStr=='N'):\n",
    "\tskilldatapath='../DataOutput/Arctic/SkillVals/'\n",
    "\tlinedatapath='../DataOutput/Arctic/TimeSeries/'\n",
    "\tdatapath='../DataOutput/Arctic/'\n",
    "\n",
    "if (region=='A'):\n",
    "\tskilldatapath='../DataOutput/Alaska/SkillVals/'\n",
    "\tlinedatapath='../DataOutput/Alaska/TimeSeries/'"
   ]
  },
  {
   "cell_type": "code",
   "execution_count": 4,
   "metadata": {
    "collapsed": false
   },
   "outputs": [
    {
     "name": "stdout",
     "output_type": "stream",
     "text": [
      "[ 7.26032299  7.88943296  7.28314957  7.48270218  7.57175158  7.13994098\n",
      "  6.96138861  7.5864269   7.54152359  7.53465491  7.08755243  6.27644633\n",
      "  6.59263747  7.5860196   6.54160085  7.24209901  6.18037068  7.9096321\n",
      "  6.77434702  6.61537345  6.28588959  6.35572741  6.77162492  5.97588484\n",
      "  6.17904505  6.07441663  5.59171572  5.94600097  4.32049685  4.74593519\n",
      "  5.39666295  4.94279883  4.64385147] [ -6.51174733e-01   6.27685686e-02  -4.58681484e-01  -1.74295535e-01\n",
      "  -4.12804805e-04  -3.47390072e-01  -4.41109102e-01   2.68762529e-01\n",
      "   3.08692547e-01   3.86657202e-01   2.43880583e-02  -7.01884702e-01\n",
      "  -3.00860229e-01   7.77355241e-01  -1.82230172e-01   6.03101324e-01\n",
      "  -3.73793676e-01   1.44030108e+00   3.89849341e-01   3.15709107e-01\n",
      "   7.10585829e-02   2.25729741e-01   7.26460579e-01   1.55538384e-02\n",
      "   3.03547386e-01   2.83752300e-01  -1.14115273e-01   3.25003314e-01\n",
      "  -1.21566747e+00  -7.05395793e-01   3.01653024e-02  -3.38865486e-01\n",
      "  -5.52979510e-01]\n"
     ]
    }
   ],
   "source": [
    "# Get the training data for all years prior to the given forecast year\n",
    "yearsTr, extentTr = ff.getIceExtentAreaPetty(extdatapath, pmonth, startYearF, yearP-1, icetype=iceType, alg=alg)\n",
    "\n",
    "# Linearly detrend the data\n",
    "# NB THIS IS SOMETHING WE CAN LOOK INTO CHANGING\n",
    "extentDTr, lineTr=ff.get_varDT(yearsTr, extentTr)\n",
    "print extentTr, extentDTr"
   ]
  },
  {
   "cell_type": "code",
   "execution_count": null,
   "metadata": {
    "collapsed": true
   },
   "outputs": [],
   "source": []
  },
  {
   "cell_type": "code",
   "execution_count": 5,
   "metadata": {
    "collapsed": false
   },
   "outputs": [],
   "source": [
    "# Generate the forecast model!\n",
    "# THIS IS THE MAIN PART OF THE MODEL THAT CAN LIKELY BE IMPROVED.\n",
    "\n",
    "# Need to get an array filled with ones to act as the intercept\n",
    "predVarsTYr=[1]\n",
    "predVars=np.ones((size(yearsTr)))\n",
    "\n",
    "# Get forecast years\n",
    "# Normally same as yearsTr but in case crossing year I added this to main script\n",
    "#yearsFr=np.arange(startYearF, yearF, 1)\n",
    "\n",
    "for varT in fvars:\n",
    "    #print 'Var:', varT\n",
    "    if (varT in ['sst','conc','melt','melt_nan', 'pmas']):\n",
    "\n",
    "        # Get the gridded forecast data for training (prior to forecast year)\n",
    "        VarYearsTr = ff.get_gridvar(varT, fmonth, yearsTr, hemStr)\n",
    "\n",
    "        # Get the gridded data of the forecast year\n",
    "        VarYear = ff.get_gridvar(varT, fmonth, array(yearF), hemStr)\n",
    "\n",
    "        # Weight the gridded forecast data with training/historical sea ice data\n",
    "        rvalsDT, unweightedPredVarT, predVarT, predVarTYr = ff.GetWeightedPredVar(yearsTr, yearF, extentDTr, VarYearsTr, VarYear,varT, fmonth, pmonth, startYearF,numYearsReq, region, hemStr, iceType, normalize=0, outWeights=outWeights, weight=weight)\n",
    "\n",
    "    # will be an array of 1 (intercept) and a number\n",
    "    predVarsTYr.append(predVarTYr)\n",
    "    # will be an array of 1s (intercepts) and a series of numbers\n",
    "    predVars=np.column_stack((predVars, array(predVarT)))\n"
   ]
  },
  {
   "cell_type": "code",
   "execution_count": 6,
   "metadata": {
    "collapsed": false
   },
   "outputs": [
    {
     "data": {
      "text/plain": [
       "array([[  1.00000000e+00,  -1.11533558e-03],\n",
       "       [  1.00000000e+00,  -1.57141479e-03],\n",
       "       [  1.00000000e+00,  -2.48682427e-03],\n",
       "       [  1.00000000e+00,   3.63248996e-04],\n",
       "       [  1.00000000e+00,  -9.02611424e-05],\n",
       "       [  1.00000000e+00,   4.59026913e-04],\n",
       "       [  1.00000000e+00,  -1.82386540e-03],\n",
       "       [  1.00000000e+00,   4.54861550e-04],\n",
       "       [  1.00000000e+00,   9.92024856e-04],\n",
       "       [  1.00000000e+00,  -5.66744090e-05],\n",
       "       [  1.00000000e+00,   2.40897113e-03],\n",
       "       [  1.00000000e+00,  -3.53930532e-03],\n",
       "       [  1.00000000e+00,  -2.94340521e-05],\n",
       "       [  1.00000000e+00,   2.81033874e-03],\n",
       "       [  1.00000000e+00,  -2.56679292e-03],\n",
       "       [  1.00000000e+00,   2.75260177e-03],\n",
       "       [  1.00000000e+00,  -2.91926487e-03],\n",
       "       [  1.00000000e+00,   5.14470090e-03],\n",
       "       [  1.00000000e+00,   6.03178659e-04],\n",
       "       [  1.00000000e+00,   2.66052118e-04],\n",
       "       [  1.00000000e+00,   2.11958169e-03],\n",
       "       [  1.00000000e+00,   3.11220300e-04],\n",
       "       [  1.00000000e+00,   3.28333223e-03],\n",
       "       [  1.00000000e+00,   8.26274721e-04],\n",
       "       [  1.00000000e+00,   1.73407093e-03],\n",
       "       [  1.00000000e+00,   2.72084734e-03],\n",
       "       [  1.00000000e+00,  -5.01659878e-04],\n",
       "       [  1.00000000e+00,   5.80427729e-04],\n",
       "       [  1.00000000e+00,  -4.47539598e-03],\n",
       "       [  1.00000000e+00,  -1.92160908e-03],\n",
       "       [  1.00000000e+00,   1.55048702e-03],\n",
       "       [  1.00000000e+00,  -3.65799353e-03],\n",
       "       [  1.00000000e+00,  -2.62541637e-03]])"
      ]
     },
     "execution_count": 6,
     "metadata": {},
     "output_type": "execute_result"
    }
   ],
   "source": [
    "predVars"
   ]
  },
  {
   "cell_type": "code",
   "execution_count": 7,
   "metadata": {
    "collapsed": false
   },
   "outputs": [
    {
     "name": "stdout",
     "output_type": "stream",
     "text": [
      "Observed extent: 3.640041754\n",
      "Linear trend extent: 5.11199764301\n",
      "Forecast extent: 4.1835532317\n"
     ]
    }
   ],
   "source": [
    "# Use SM to generate the regression model. Could have just used linregress (tested, gave same results, but this was just a bit neater)\n",
    "model=sm.OLS(extentDTr, predVars)\n",
    "fit=model.fit()\n",
    "\n",
    "# Forecast detrended sea ice extent!\n",
    "extentForrDT = fit.predict(predVarsTYr)[0]\n",
    "\n",
    "# Prediction uncertainty estimate\n",
    "prstd, iv_l, iv_u = wls_prediction_std(fit, exog=predVarsTYr)\n",
    "\n",
    "# Calculate alternative ice extent forecast simply assuming linear trend persistnce\n",
    "extTrendP=(lineTr[-1]+(lineTr[-1]-lineTr[-2]))\n",
    "\n",
    "extentForrAbs = extentForrDT+extTrendP\n",
    "\n",
    "if (anomObs==1):\n",
    "    # Get the extent data for the given prediction year and compare against forecast\n",
    "    yearsYr, extentYr = ff.getIceExtentAreaPetty(extdatapath, pmonth, startYearF, yearP, icetype=iceType, alg=0)\n",
    "    extentObsDT=extentYr-extentYr[-1]\n",
    "    anom=extentYr-extentForrAbs\n",
    "    print 'Observed extent:',extentYr[-1]\n",
    "\n",
    "print 'Linear trend extent:',extTrendP\n",
    "print 'Forecast extent:',extentForrAbs\n"
   ]
  },
  {
   "cell_type": "code",
   "execution_count": 8,
   "metadata": {
    "collapsed": false
   },
   "outputs": [
    {
     "name": "stdout",
     "output_type": "stream",
     "text": [
      "[1979 1980 1981 1982 1983 1984 1985 1986 1987 1988 1989 1990 1991 1992 1993\n",
      " 1994 1995 1996 1997 1998 1999 2000 2001 2002 2003 2004 2005 2006 2007 2008\n",
      " 2009 2010 2011]\n"
     ]
    }
   ],
   "source": [
    "yearsFr=np.arange(startYearF, yearF, 1)\n",
    "print yearsFr"
   ]
  },
  {
   "cell_type": "code",
   "execution_count": 9,
   "metadata": {
    "collapsed": false
   },
   "outputs": [
    {
     "name": "stdout",
     "output_type": "stream",
     "text": [
      "()\n"
     ]
    }
   ],
   "source": [
    "print predVarTYr.shape"
   ]
  },
  {
   "cell_type": "code",
   "execution_count": 10,
   "metadata": {
    "collapsed": false
   },
   "outputs": [
    {
     "ename": "IOError",
     "evalue": "[Errno 2] No such file or directory: '../DataOutput/IceConcA/xpts100kmA'",
     "output_type": "error",
     "traceback": [
      "\u001b[0;31m---------------------------------------------------------------------------\u001b[0m",
      "\u001b[0;31mIOError\u001b[0m                                   Traceback (most recent call last)",
      "\u001b[0;32m<ipython-input-10-905b0257f9d3>\u001b[0m in \u001b[0;36m<module>\u001b[0;34m()\u001b[0m\n\u001b[1;32m     39\u001b[0m         \u001b[0mpoleStr\u001b[0m\u001b[0;34m=\u001b[0m\u001b[0;34m'A'\u001b[0m\u001b[0;34m\u001b[0m\u001b[0m\n\u001b[1;32m     40\u001b[0m \u001b[0;34m\u001b[0m\u001b[0m\n\u001b[0;32m---> 41\u001b[0;31m \u001b[0mxpts\u001b[0m\u001b[0;34m=\u001b[0m\u001b[0mload\u001b[0m\u001b[0;34m(\u001b[0m\u001b[0mdataoutpath\u001b[0m\u001b[0;34m+\u001b[0m\u001b[0;34m'IceConcA/xpts100km'\u001b[0m\u001b[0;34m+\u001b[0m\u001b[0mpoleStr\u001b[0m\u001b[0;34m)\u001b[0m\u001b[0;34m\u001b[0m\u001b[0m\n\u001b[0m\u001b[1;32m     42\u001b[0m \u001b[0mypts\u001b[0m\u001b[0;34m=\u001b[0m\u001b[0mload\u001b[0m\u001b[0;34m(\u001b[0m\u001b[0mdataoutpath\u001b[0m\u001b[0;34m+\u001b[0m\u001b[0;34m'IceConcA/ypts100km'\u001b[0m\u001b[0;34m+\u001b[0m\u001b[0mpoleStr\u001b[0m\u001b[0;34m)\u001b[0m\u001b[0;34m\u001b[0m\u001b[0m\n\u001b[1;32m     43\u001b[0m \u001b[0mfig\u001b[0m \u001b[0;34m=\u001b[0m \u001b[0mfigure\u001b[0m\u001b[0;34m(\u001b[0m\u001b[0mfigsize\u001b[0m\u001b[0;34m=\u001b[0m\u001b[0;34m(\u001b[0m\u001b[0;36m9\u001b[0m\u001b[0;34m,\u001b[0m\u001b[0;36m9\u001b[0m\u001b[0;34m*\u001b[0m\u001b[0;36m0.8\u001b[0m\u001b[0;34m)\u001b[0m\u001b[0;34m)\u001b[0m\u001b[0;34m\u001b[0m\u001b[0m\n",
      "\u001b[0;32m/Applications/anaconda/lib/python2.7/site-packages/numpy/lib/npyio.pyc\u001b[0m in \u001b[0;36mload\u001b[0;34m(file, mmap_mode, allow_pickle, fix_imports, encoding)\u001b[0m\n\u001b[1;32m    360\u001b[0m     \u001b[0mown_fid\u001b[0m \u001b[0;34m=\u001b[0m \u001b[0mFalse\u001b[0m\u001b[0;34m\u001b[0m\u001b[0m\n\u001b[1;32m    361\u001b[0m     \u001b[0;32mif\u001b[0m \u001b[0misinstance\u001b[0m\u001b[0;34m(\u001b[0m\u001b[0mfile\u001b[0m\u001b[0;34m,\u001b[0m \u001b[0mbasestring\u001b[0m\u001b[0;34m)\u001b[0m\u001b[0;34m:\u001b[0m\u001b[0;34m\u001b[0m\u001b[0m\n\u001b[0;32m--> 362\u001b[0;31m         \u001b[0mfid\u001b[0m \u001b[0;34m=\u001b[0m \u001b[0mopen\u001b[0m\u001b[0;34m(\u001b[0m\u001b[0mfile\u001b[0m\u001b[0;34m,\u001b[0m \u001b[0;34m\"rb\"\u001b[0m\u001b[0;34m)\u001b[0m\u001b[0;34m\u001b[0m\u001b[0m\n\u001b[0m\u001b[1;32m    363\u001b[0m         \u001b[0mown_fid\u001b[0m \u001b[0;34m=\u001b[0m \u001b[0mTrue\u001b[0m\u001b[0;34m\u001b[0m\u001b[0m\n\u001b[1;32m    364\u001b[0m     \u001b[0;32melse\u001b[0m\u001b[0;34m:\u001b[0m\u001b[0;34m\u001b[0m\u001b[0m\n",
      "\u001b[0;31mIOError\u001b[0m: [Errno 2] No such file or directory: '../DataOutput/IceConcA/xpts100kmA'"
     ]
    }
   ],
   "source": [
    "# plot forecast anomaly field that drove the forecast\n",
    "\n",
    "from mpl_toolkits.basemap import Basemap, shiftgrid\n",
    "# plotting parameters\n",
    "rcParams['xtick.major.size'] = 2\n",
    "rcParams['ytick.major.size'] = 2\n",
    "rcParams['axes.linewidth'] = .3\n",
    "rcParams['lines.linewidth'] = .3\n",
    "rcParams['patch.linewidth'] = .3\n",
    "\n",
    "rcParams['axes.labelsize'] = 14\n",
    "rcParams['xtick.labelsize']=14\n",
    "rcParams['ytick.labelsize']=14\n",
    "rcParams['legend.fontsize']=14\n",
    "rcParams['font.size']=14\n",
    "rc('font',**{'family':'sans-serif','sans-serif':['Arial']})\n",
    "\n",
    "\n",
    "minval=-0.5\n",
    "maxval=0.5\n",
    "\n",
    "if (hemStr=='N'):\n",
    "    if ((region=='A')):\n",
    "        regionOut='Alaska'\n",
    "    else:\n",
    "        regionOut='Arctic'\n",
    "else:\n",
    "    regionOut='Antarctic'\n",
    "\n",
    "# Map projection\n",
    "m = Basemap(projection='npstere',boundinglat=65,lon_0=0, resolution='l'  )\n",
    "\n",
    "# Gridded coordinates\n",
    "\n",
    "hemStr='N'\n",
    "if (hemStr=='S'):\n",
    "\tpoleStr='AA'\n",
    "elif (hemStr=='N'):\n",
    "\tpoleStr='A'\n",
    "\n",
    "xpts=load(dataoutpath+'IceConcA/'+concVersion+'/xpts100km'+poleStr)\n",
    "ypts=load(dataoutpath+'IceConcA/'+concVersion+'/ypts100km'+poleStr)\n",
    "fig = figure(figsize=(9,9*0.8))\n",
    "ax=gca()\n",
    "\n",
    "im1 = m.contourf(xpts , ypts, rvalsDT,levels=[0.3, 0.8], colors='none', hatches=['//'], zorder=3)\n",
    "\n",
    "im2 = m.pcolormesh(xpts, ypts, unweightedPredVarT,vmin=minval, vmax=maxval, cmap=cm.RdBu_r, shading='interp', zorder=2)\n",
    "#im1 = m.pcolormesh(xpts , ypts, rvals, cmap=cm.cubehelix, vmin=minval, vmax=maxval,shading='flat', zorder=2)\n",
    "\n",
    "m.fillcontinents(color='w',lake_color='0.9', zorder=2)\n",
    "m.drawcoastlines(linewidth=0.25, zorder=5)\n",
    "m.drawparallels(np.arange(90,-90,-10), linewidth = 0.25, zorder=3)\n",
    "m.drawmeridians(np.arange(-180.,180.,30.), linewidth = 0.25, zorder=3)\n",
    "\n",
    "label_str=r'$\\Delta$ A'\n",
    "cax = fig.add_axes([0.81, 0.05, 0.03, 0.45])\n",
    "cbar = colorbar(im2,cax=cax, orientation='vertical', extend='both', use_gridspec=True)\n",
    "cbar.set_label(label_str, labelpad=4, rotation=0)\n",
    "cbar.set_ticks(np.linspace(minval, maxval, 3))\n",
    "cbar.solids.set_rasterized(True)\n",
    "\n",
    "#ax.annotate(varStr, xy=(0.5, 1.01),xycoords='axes fraction', horizontalalignment='center', verticalalignment='bottom', zorder=10)\n",
    "ax.annotate(regionOut+'\\n'+str(yearP)+'\\nFM:'+str(fmonth)+' PM:'+str(pmonth)+'\\n\\nFvar:'+fvars[0]+'\\nPvar:'+iceType, xy=(1.005, 0.98), xycoords='axes fraction', horizontalalignment='left', verticalalignment='top', rotation=0, zorder=10)\n",
    "\n",
    "subplots_adjust(bottom=0.01, top=0.99, left=0.01, right=0.8)\n",
    "plt.show()\n",
    "#savefig(figpath+'anomaly'+varStr+iceType+'fm'+str(fmonth)+'pm'+str(pmonth)+'R'+str(region)+str(startYear)+str(yearT)+poleStr+'.png', dpi=300)\n",
    "#close(fig)\n"
   ]
  },
  {
   "cell_type": "code",
   "execution_count": null,
   "metadata": {
    "collapsed": true
   },
   "outputs": [],
   "source": []
  }
 ],
 "metadata": {
  "kernelspec": {
   "display_name": "Python 2",
   "language": "python",
   "name": "python2"
  },
  "language_info": {
   "codemirror_mode": {
    "name": "ipython",
    "version": 2
   },
   "file_extension": ".py",
   "mimetype": "text/x-python",
   "name": "python",
   "nbconvert_exporter": "python",
   "pygments_lexer": "ipython2",
   "version": "2.7.11"
  }
 },
 "nbformat": 4,
 "nbformat_minor": 0
}
